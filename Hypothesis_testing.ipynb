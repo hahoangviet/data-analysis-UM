{
 "cells": [
  {
   "cell_type": "code",
   "execution_count": 12,
   "metadata": {},
   "outputs": [],
   "source": [
    "# Data Analysis\n",
    "# Data Madness\n",
    "\n",
    "#We will try to give an answer to 3. Is there a significant difference between people who have positive and negative attitude towards covid on masked speech understanding?"
   ]
  },
  {
   "cell_type": "code",
   "execution_count": 74,
   "metadata": {},
   "outputs": [],
   "source": [
    "#first we get our packages\n",
    "import seaborn as sns\n",
    "import csv\n",
    "import numpy as np\n",
    "import pandas as pd\n",
    "import matplotlib.pyplot as plt\n",
    "import zipfile\n",
    "from scipy.stats import norm\n"
   ]
  },
  {
   "cell_type": "code",
   "execution_count": 14,
   "metadata": {},
   "outputs": [
    {
     "data": {
      "text/html": [
       "<div>\n",
       "<style scoped>\n",
       "    .dataframe tbody tr th:only-of-type {\n",
       "        vertical-align: middle;\n",
       "    }\n",
       "\n",
       "    .dataframe tbody tr th {\n",
       "        vertical-align: top;\n",
       "    }\n",
       "\n",
       "    .dataframe thead th {\n",
       "        text-align: right;\n",
       "    }\n",
       "</style>\n",
       "<table border=\"1\" class=\"dataframe\">\n",
       "  <thead>\n",
       "    <tr style=\"text-align: right;\">\n",
       "      <th></th>\n",
       "      <th>participant_private_id</th>\n",
       "      <th>participant_device_type</th>\n",
       "      <th>participant_browser</th>\n",
       "      <th>spreadsheet_name</th>\n",
       "      <th>spreadsheet_row</th>\n",
       "      <th>trial_number</th>\n",
       "      <th>rt</th>\n",
       "      <th>target</th>\n",
       "      <th>correct</th>\n",
       "      <th>answer</th>\n",
       "      <th>...</th>\n",
       "      <th>response_6_6</th>\n",
       "      <th>response_6_7</th>\n",
       "      <th>response_6_8</th>\n",
       "      <th>response_6_9</th>\n",
       "      <th>response_6_10</th>\n",
       "      <th>response_6_11</th>\n",
       "      <th>response_6_12</th>\n",
       "      <th>response_6_13</th>\n",
       "      <th>response_6_14</th>\n",
       "      <th>response_6_15</th>\n",
       "    </tr>\n",
       "  </thead>\n",
       "  <tbody>\n",
       "    <tr>\n",
       "      <td>0</td>\n",
       "      <td>4373971</td>\n",
       "      <td>mobile</td>\n",
       "      <td>Mobile Safari 14.1.1</td>\n",
       "      <td>nm_1</td>\n",
       "      <td>46</td>\n",
       "      <td>3</td>\n",
       "      <td>469.0</td>\n",
       "      <td>S</td>\n",
       "      <td>True</td>\n",
       "      <td>S</td>\n",
       "      <td>...</td>\n",
       "      <td>Neutral; no opinion</td>\n",
       "      <td>Disagree a little</td>\n",
       "      <td>Disagree a little</td>\n",
       "      <td>Agree a little</td>\n",
       "      <td>Disagree strongly</td>\n",
       "      <td>Disagree a little</td>\n",
       "      <td>Disagree a little</td>\n",
       "      <td>Neutral; no opinion</td>\n",
       "      <td>Neutral; no opinion</td>\n",
       "      <td>Disagree a little</td>\n",
       "    </tr>\n",
       "    <tr>\n",
       "      <td>1</td>\n",
       "      <td>4373971</td>\n",
       "      <td>mobile</td>\n",
       "      <td>Mobile Safari 14.1.1</td>\n",
       "      <td>nm_1</td>\n",
       "      <td>46</td>\n",
       "      <td>3</td>\n",
       "      <td>469.0</td>\n",
       "      <td>S</td>\n",
       "      <td>True</td>\n",
       "      <td>S</td>\n",
       "      <td>...</td>\n",
       "      <td>Neutral; no opinion</td>\n",
       "      <td>Disagree a little</td>\n",
       "      <td>Disagree a little</td>\n",
       "      <td>Agree a little</td>\n",
       "      <td>Disagree strongly</td>\n",
       "      <td>Disagree a little</td>\n",
       "      <td>Disagree a little</td>\n",
       "      <td>Neutral; no opinion</td>\n",
       "      <td>Neutral; no opinion</td>\n",
       "      <td>Disagree a little</td>\n",
       "    </tr>\n",
       "    <tr>\n",
       "      <td>2</td>\n",
       "      <td>4373971</td>\n",
       "      <td>mobile</td>\n",
       "      <td>Mobile Safari 14.1.1</td>\n",
       "      <td>nm_1</td>\n",
       "      <td>43</td>\n",
       "      <td>4</td>\n",
       "      <td>717.0</td>\n",
       "      <td>S</td>\n",
       "      <td>True</td>\n",
       "      <td>S</td>\n",
       "      <td>...</td>\n",
       "      <td>Neutral; no opinion</td>\n",
       "      <td>Disagree a little</td>\n",
       "      <td>Disagree a little</td>\n",
       "      <td>Agree a little</td>\n",
       "      <td>Disagree strongly</td>\n",
       "      <td>Disagree a little</td>\n",
       "      <td>Disagree a little</td>\n",
       "      <td>Neutral; no opinion</td>\n",
       "      <td>Neutral; no opinion</td>\n",
       "      <td>Disagree a little</td>\n",
       "    </tr>\n",
       "    <tr>\n",
       "      <td>3</td>\n",
       "      <td>4373971</td>\n",
       "      <td>mobile</td>\n",
       "      <td>Mobile Safari 14.1.1</td>\n",
       "      <td>nm_1</td>\n",
       "      <td>43</td>\n",
       "      <td>4</td>\n",
       "      <td>717.0</td>\n",
       "      <td>S</td>\n",
       "      <td>True</td>\n",
       "      <td>S</td>\n",
       "      <td>...</td>\n",
       "      <td>Neutral; no opinion</td>\n",
       "      <td>Disagree a little</td>\n",
       "      <td>Disagree a little</td>\n",
       "      <td>Agree a little</td>\n",
       "      <td>Disagree strongly</td>\n",
       "      <td>Disagree a little</td>\n",
       "      <td>Disagree a little</td>\n",
       "      <td>Neutral; no opinion</td>\n",
       "      <td>Neutral; no opinion</td>\n",
       "      <td>Disagree a little</td>\n",
       "    </tr>\n",
       "    <tr>\n",
       "      <td>4</td>\n",
       "      <td>4373971</td>\n",
       "      <td>mobile</td>\n",
       "      <td>Mobile Safari 14.1.1</td>\n",
       "      <td>nm_1</td>\n",
       "      <td>58</td>\n",
       "      <td>5</td>\n",
       "      <td>384.0</td>\n",
       "      <td>SH</td>\n",
       "      <td>False</td>\n",
       "      <td>TH</td>\n",
       "      <td>...</td>\n",
       "      <td>Neutral; no opinion</td>\n",
       "      <td>Disagree a little</td>\n",
       "      <td>Disagree a little</td>\n",
       "      <td>Agree a little</td>\n",
       "      <td>Disagree strongly</td>\n",
       "      <td>Disagree a little</td>\n",
       "      <td>Disagree a little</td>\n",
       "      <td>Neutral; no opinion</td>\n",
       "      <td>Neutral; no opinion</td>\n",
       "      <td>Disagree a little</td>\n",
       "    </tr>\n",
       "  </tbody>\n",
       "</table>\n",
       "<p>5 rows × 65 columns</p>\n",
       "</div>"
      ],
      "text/plain": [
       "   participant_private_id participant_device_type   participant_browser  \\\n",
       "0                 4373971                  mobile  Mobile Safari 14.1.1   \n",
       "1                 4373971                  mobile  Mobile Safari 14.1.1   \n",
       "2                 4373971                  mobile  Mobile Safari 14.1.1   \n",
       "3                 4373971                  mobile  Mobile Safari 14.1.1   \n",
       "4                 4373971                  mobile  Mobile Safari 14.1.1   \n",
       "\n",
       "  spreadsheet_name  spreadsheet_row  trial_number     rt target  correct  \\\n",
       "0             nm_1               46             3  469.0      S     True   \n",
       "1             nm_1               46             3  469.0      S     True   \n",
       "2             nm_1               43             4  717.0      S     True   \n",
       "3             nm_1               43             4  717.0      S     True   \n",
       "4             nm_1               58             5  384.0     SH    False   \n",
       "\n",
       "  answer  ...         response_6_6       response_6_7       response_6_8  \\\n",
       "0      S  ...  Neutral; no opinion  Disagree a little  Disagree a little   \n",
       "1      S  ...  Neutral; no opinion  Disagree a little  Disagree a little   \n",
       "2      S  ...  Neutral; no opinion  Disagree a little  Disagree a little   \n",
       "3      S  ...  Neutral; no opinion  Disagree a little  Disagree a little   \n",
       "4     TH  ...  Neutral; no opinion  Disagree a little  Disagree a little   \n",
       "\n",
       "     response_6_9      response_6_10      response_6_11      response_6_12  \\\n",
       "0  Agree a little  Disagree strongly  Disagree a little  Disagree a little   \n",
       "1  Agree a little  Disagree strongly  Disagree a little  Disagree a little   \n",
       "2  Agree a little  Disagree strongly  Disagree a little  Disagree a little   \n",
       "3  Agree a little  Disagree strongly  Disagree a little  Disagree a little   \n",
       "4  Agree a little  Disagree strongly  Disagree a little  Disagree a little   \n",
       "\n",
       "         response_6_13        response_6_14      response_6_15  \n",
       "0  Neutral; no opinion  Neutral; no opinion  Disagree a little  \n",
       "1  Neutral; no opinion  Neutral; no opinion  Disagree a little  \n",
       "2  Neutral; no opinion  Neutral; no opinion  Disagree a little  \n",
       "3  Neutral; no opinion  Neutral; no opinion  Disagree a little  \n",
       "4  Neutral; no opinion  Neutral; no opinion  Disagree a little  \n",
       "\n",
       "[5 rows x 65 columns]"
      ]
     },
     "execution_count": 14,
     "metadata": {},
     "output_type": "execute_result"
    }
   ],
   "source": [
    "#we load the data\n",
    "data = pd.read_csv('final/facemask.csv')\n",
    "data.head()"
   ]
  },
  {
   "cell_type": "code",
   "execution_count": 47,
   "metadata": {},
   "outputs": [],
   "source": [
    "#The data we need consists out of the amount of correct answers, and the average attitude, for this the first step is to \n",
    "#replace all corrects with 1 and all incorrects with zero to get an easy sum of all the correct answers\n",
    "data['correct'].replace({False: 0, True: 1}, inplace=True)\n"
   ]
  },
  {
   "cell_type": "code",
   "execution_count": 55,
   "metadata": {},
   "outputs": [
    {
     "data": {
      "text/html": [
       "<div>\n",
       "<style scoped>\n",
       "    .dataframe tbody tr th:only-of-type {\n",
       "        vertical-align: middle;\n",
       "    }\n",
       "\n",
       "    .dataframe tbody tr th {\n",
       "        vertical-align: top;\n",
       "    }\n",
       "\n",
       "    .dataframe thead th {\n",
       "        text-align: right;\n",
       "    }\n",
       "</style>\n",
       "<table border=\"1\" class=\"dataframe\">\n",
       "  <thead>\n",
       "    <tr style=\"text-align: right;\">\n",
       "      <th></th>\n",
       "      <th>participant_private_id</th>\n",
       "      <th>mask_after</th>\n",
       "      <th>mask_people</th>\n",
       "      <th>mask_perception</th>\n",
       "      <th>mask_spread</th>\n",
       "      <th>mask_freedom</th>\n",
       "      <th>mask_vulnerable</th>\n",
       "      <th>correct</th>\n",
       "    </tr>\n",
       "  </thead>\n",
       "  <tbody>\n",
       "    <tr>\n",
       "      <td>0</td>\n",
       "      <td>4373599</td>\n",
       "      <td>7</td>\n",
       "      <td>5</td>\n",
       "      <td>5</td>\n",
       "      <td>7</td>\n",
       "      <td>1</td>\n",
       "      <td>7</td>\n",
       "      <td>91.25</td>\n",
       "    </tr>\n",
       "    <tr>\n",
       "      <td>1</td>\n",
       "      <td>4373639</td>\n",
       "      <td>6</td>\n",
       "      <td>3</td>\n",
       "      <td>4</td>\n",
       "      <td>6</td>\n",
       "      <td>6</td>\n",
       "      <td>6</td>\n",
       "      <td>81.25</td>\n",
       "    </tr>\n",
       "    <tr>\n",
       "      <td>2</td>\n",
       "      <td>4373827</td>\n",
       "      <td>7</td>\n",
       "      <td>3</td>\n",
       "      <td>5</td>\n",
       "      <td>7</td>\n",
       "      <td>1</td>\n",
       "      <td>7</td>\n",
       "      <td>81.25</td>\n",
       "    </tr>\n",
       "    <tr>\n",
       "      <td>3</td>\n",
       "      <td>4373971</td>\n",
       "      <td>5</td>\n",
       "      <td>4</td>\n",
       "      <td>4</td>\n",
       "      <td>3</td>\n",
       "      <td>5</td>\n",
       "      <td>4</td>\n",
       "      <td>88.75</td>\n",
       "    </tr>\n",
       "    <tr>\n",
       "      <td>4</td>\n",
       "      <td>4374140</td>\n",
       "      <td>7</td>\n",
       "      <td>7</td>\n",
       "      <td>5</td>\n",
       "      <td>7</td>\n",
       "      <td>1</td>\n",
       "      <td>7</td>\n",
       "      <td>76.25</td>\n",
       "    </tr>\n",
       "  </tbody>\n",
       "</table>\n",
       "</div>"
      ],
      "text/plain": [
       "   participant_private_id  mask_after  mask_people  mask_perception  \\\n",
       "0                 4373599           7            5                5   \n",
       "1                 4373639           6            3                4   \n",
       "2                 4373827           7            3                5   \n",
       "3                 4373971           5            4                4   \n",
       "4                 4374140           7            7                5   \n",
       "\n",
       "   mask_spread  mask_freedom  mask_vulnerable  correct  \n",
       "0            7             1                7    91.25  \n",
       "1            6             6                6    81.25  \n",
       "2            7             1                7    81.25  \n",
       "3            3             5                4    88.75  \n",
       "4            7             1                7    76.25  "
      ]
     },
     "execution_count": 55,
     "metadata": {},
     "output_type": "execute_result"
    }
   ],
   "source": [
    "#second we have to get to know a persons attitude towards covid, we can take this information from columns 33 - 39, grouped by the individuals\n",
    "#Note: some columns from 33-39 are aimed at the pre-pandemic period, since this doesnt define the attitude, these columns are deleted\n",
    "#The score can be calculated using /160 * 100, since every person did 160 tests.\n",
    "data_needed = data.groupby(\"participant_private_id\", as_index = False).agg({\"mask_after\":\"first\",\"mask_people\":\"first\",\"mask_perception\":\"first\",\"mask_spread\":\"first\",\"mask_freedom\":\"first\",\"mask_vulnerable\":\"first\",\"correct\":\"sum\"})\n",
    "data_needed['correct'] = (data_needed['correct'] / 160) * 100\n",
    "data_needed.head()"
   ]
  },
  {
   "cell_type": "code",
   "execution_count": 56,
   "metadata": {},
   "outputs": [
    {
     "data": {
      "text/plain": [
       "<matplotlib.axes._subplots.AxesSubplot at 0x1e8efa9a0c8>"
      ]
     },
     "execution_count": 56,
     "metadata": {},
     "output_type": "execute_result"
    },
    {
     "data": {
      "image/png": "[encoded data removed]",
      "text/plain": [
       "<Figure size 432x288 with 1 Axes>"
      ]
     },
     "metadata": {
      "needs_background": "light"
     },
     "output_type": "display_data"
    }
   ],
   "source": [
    "#if we compute the average of these 6 columns, a low number means negative attitude, a high number defines positive attitude.\n",
    "data_needed['mask_freedom'] = 8 - data_attitude['mask_freedom']\n",
    "cols = ['mask_after', 'mask_people', 'mask_perception', 'mask_spread', 'mask_freedom', 'mask_vulnerable']\n",
    "data_needed['average'] = data_attitude.iloc[:, 1:6].mean(axis=1)\n",
    "sns.distplot(data_needed['average'])"
   ]
  },
  {
   "cell_type": "code",
   "execution_count": 57,
   "metadata": {},
   "outputs": [
    {
     "data": {
      "text/plain": [
       "5.502352941176473"
      ]
     },
     "execution_count": 57,
     "metadata": {},
     "output_type": "execute_result"
    }
   ],
   "source": [
    "data_needed['average'].mean()"
   ]
  },
  {
   "cell_type": "code",
   "execution_count": 58,
   "metadata": {},
   "outputs": [
    {
     "data": {
      "text/plain": [
       "<matplotlib.axes._subplots.AxesSubplot at 0x1e8efb1fec8>"
      ]
     },
     "execution_count": 58,
     "metadata": {},
     "output_type": "execute_result"
    },
    {
     "data": {
      "image/png": "[encoded data removed]",
      "text/plain": [
       "<Figure size 432x288 with 1 Axes>"
      ]
     },
     "metadata": {
      "needs_background": "light"
     },
     "output_type": "display_data"
    }
   ],
   "source": [
    "sns.distplot(data_needed['correct'])"
   ]
  },
  {
   "cell_type": "code",
   "execution_count": 64,
   "metadata": {},
   "outputs": [
    {
     "data": {
      "text/plain": [
       "82.69117647058823"
      ]
     },
     "execution_count": 64,
     "metadata": {},
     "output_type": "execute_result"
    }
   ],
   "source": [
    "#now that we have the data in the way that we want it, we can start with our hypothesis testing.\n",
    "#Two sample hypothesis test, null hypothesis, there is no difference between the mean of people with a negative attitude and a positive attitude\n",
    "\n",
    "mean = data_needed['correct'].mean()"
   ]
  },
  {
   "cell_type": "code",
   "execution_count": 90,
   "metadata": {},
   "outputs": [
    {
     "name": "stdout",
     "output_type": "stream",
     "text": [
      "0.31254492292067526 0.7550140407007598\n"
     ]
    }
   ],
   "source": [
    "#Now we take all the data of people with a negative attitude\n",
    "negative_attitude = data_needed.loc[data_needed['average'] <= 5.5]\n",
    "#and of all the people with a positive attitude\n",
    "positive_attitude = data_needed.loc[data_needed['average'] >= 5.5]\n",
    "from scipy.stats import ttest_ind\n",
    "t, pval = ttest_ind(negative_attitude['correct'], positive_attitude['correct'])\n",
    "print(t, pval)"
   ]
  },
  {
   "cell_type": "code",
   "execution_count": null,
   "metadata": {},
   "outputs": [],
   "source": [
    "#as we can see, there is a very high p-value of 0.75, this means we cannot reject the null hypothesis and reject the alternative\n",
    "#hypothesis. There is indeed no significant difference between people with a positive and negative attitude"
   ]
  },
  {
   "cell_type": "code",
   "execution_count": null,
   "metadata": {},
   "outputs": [],
   "source": []
  }
 ],
 "metadata": {
  "kernelspec": {
   "display_name": "Python 3",
   "language": "python",
   "name": "python3"
  },
  "language_info": {
   "codemirror_mode": {
    "name": "ipython",
    "version": 3
   },
   "file_extension": ".py",
   "mimetype": "text/x-python",
   "name": "python",
   "nbconvert_exporter": "python",
   "pygments_lexer": "ipython3",
   "version": "3.7.4"
  }
 },
 "nbformat": 4,
 "nbformat_minor": 2
}
